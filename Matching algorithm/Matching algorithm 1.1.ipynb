{
 "cells": [
  {
   "cell_type": "code",
   "execution_count": 1,
   "id": "84d2c517",
   "metadata": {},
   "outputs": [],
   "source": [
    "import pandas as pd\n",
    "import numpy as np\n",
    "import time\n",
    "from haversine import haversine, Unit"
   ]
  },
  {
   "cell_type": "code",
   "execution_count": 2,
   "id": "1c2a00fa",
   "metadata": {},
   "outputs": [],
   "source": [
    "# df contains the cleaned original catalog (1177 objects)\n",
    "df = pd.read_csv(\"/mnt/c/Users/joerg/OneDrive/Dokumente/UNI/Bachelor of Science/Bachelorarbeit/Jupyter Notebook/blazar_clean.csv\")\n",
    "# df_centers contains the coordinates of the 19 neutrino hotspots obtained for L_min = 4.0\n",
    "df_centers = pd.read_csv(\"/mnt/c/Users/joerg/OneDrive/Dokumente/UNI/Bachelor of Science/Bachelorarbeit/Jupyter Notebook/neutrino_hotspots_40.csv\").to_numpy()"
   ]
  },
  {
   "cell_type": "markdown",
   "id": "c4ec8ef1",
   "metadata": {},
   "source": [
    "## Matching algorithm\n",
    "Loops through all neutrino hotspots, finds blazars closer than r (in degrees) and prints the index of matched hotspots, as well as the coordinates of the corresponding blazars. Does not filter out duplicates yet. "
   ]
  },
  {
   "cell_type": "code",
   "execution_count": 3,
   "id": "47327688",
   "metadata": {},
   "outputs": [
    {
     "name": "stdout",
     "output_type": "stream",
     "text": [
      "0\n",
      "1\n",
      "4\n",
      "5\n",
      "7\n",
      "9\n",
      "11\n",
      "12\n",
      "13\n",
      "\n",
      "9 Matches were found\n",
      "\n",
      "It took 0.229s to run the matching algorithm\n"
     ]
    },
    {
     "data": {
      "text/plain": [
       "[array([59.430375, -7.854058]),\n",
       " array([300.850458, -32.862528]),\n",
       " array([ 25.792208, -32.015747]),\n",
       " array([340.7865  ,  -6.150719]),\n",
       " array([274.895792, -63.763389]),\n",
       " array([ 44.0535  , -21.624747]),\n",
       " array([ 59.890292, -26.258689]),\n",
       " array([346.222042, -36.416669]),\n",
       " array([ 97.747958, -24.112828])]"
      ]
     },
     "execution_count": 3,
     "metadata": {},
     "output_type": "execute_result"
    }
   ],
   "source": [
    "t0 = time.time()\n",
    "r = 0.55\n",
    "correlated = []\n",
    "catalog = np.array(df)\n",
    "for i in range(df_centers.shape[0]):\n",
    "    for j in range(catalog.shape[0]):\n",
    "        if haversine([df_centers[i,2], df_centers[i,1]], [catalog[j,4], catalog[j,3]], unit=Unit.DEGREES, normalize=True) < r:\n",
    "            correlated.append(np.array((catalog[j,3],catalog[j,4])))\n",
    "            print(i)\n",
    "t1 = time.time()\n",
    "print(f\"\\n{len(correlated)} Matches were found\")\n",
    "print(f\"\\nIt took {t1-t0:.3f}s to run the matching algorithm\")\n",
    "correlated"
   ]
  },
  {
   "cell_type": "markdown",
   "id": "9704d781",
   "metadata": {},
   "source": [
    "The matching algorithm is expected to return 10 matches for r=0.55 and L_min=4.0 (see Buson). 9 out of 10 matches can already be identified. The missing correlation is due to a small deviation in the neutrino hotspot clustering method for certain hotspots. Note the following difference in calculated distances:"
   ]
  },
  {
   "cell_type": "code",
   "execution_count": 4,
   "id": "856beb1c",
   "metadata": {},
   "outputs": [
    {
     "data": {
      "text/plain": [
       "0.569873307651041"
      ]
     },
     "execution_count": 4,
     "metadata": {},
     "output_type": "execute_result"
    }
   ],
   "source": [
    "# The angular distance between the missing hotspot and blazar pair according to applied clustering method.\n",
    "haversine([df_centers[10,2], df_centers[10,1]], [catalog[920,4], catalog[920,3]], unit=Unit.DEGREES, normalize=True)"
   ]
  },
  {
   "cell_type": "code",
   "execution_count": 5,
   "id": "ffa10daa",
   "metadata": {},
   "outputs": [
    {
     "data": {
      "text/plain": [
       "0.5168138467295209"
      ]
     },
     "execution_count": 5,
     "metadata": {},
     "output_type": "execute_result"
    }
   ],
   "source": [
    "# The angular distance between the missing hotspot and blazar pair according to Buson.\n",
    "haversine([-22.27, 309.38], [-21.776858, 309.213208], unit=Unit.DEGREES, normalize=True)"
   ]
  },
  {
   "cell_type": "markdown",
   "id": "fd9cef64",
   "metadata": {},
   "source": [
    "It turns out, that Busons clustering method does not use averaging of values for the center of each cluster. The method used by Buson seems to select the neutrino source with the highest -log(p-value) for the center of each cluster, disregarding all other points in that cluster. Listed below are the 4 neutrino sources that make up the neutrino hotspot thats still missing in the matching above (compare with Table 2 in Buson paper)."
   ]
  },
  {
   "cell_type": "code",
   "execution_count": 6,
   "id": "6ebfeeb2",
   "metadata": {},
   "outputs": [
    {
     "data": {
      "text/html": [
       "<div>\n",
       "<style scoped>\n",
       "    .dataframe tbody tr th:only-of-type {\n",
       "        vertical-align: middle;\n",
       "    }\n",
       "\n",
       "    .dataframe tbody tr th {\n",
       "        vertical-align: top;\n",
       "    }\n",
       "\n",
       "    .dataframe thead th {\n",
       "        text-align: right;\n",
       "    }\n",
       "</style>\n",
       "<table border=\"1\" class=\"dataframe\">\n",
       "  <thead>\n",
       "    <tr style=\"text-align: right;\">\n",
       "      <th></th>\n",
       "      <th>Unnamed: 0</th>\n",
       "      <th>index</th>\n",
       "      <th>RA</th>\n",
       "      <th>DEC</th>\n",
       "      <th>-log[p-value]</th>\n",
       "      <th>l</th>\n",
       "      <th>b</th>\n",
       "    </tr>\n",
       "  </thead>\n",
       "  <tbody>\n",
       "    <tr>\n",
       "      <th>81</th>\n",
       "      <td>81</td>\n",
       "      <td>577917</td>\n",
       "      <td>309.287109</td>\n",
       "      <td>-22.346588</td>\n",
       "      <td>4.347145</td>\n",
       "      <td>22.621176</td>\n",
       "      <td>-32.664999</td>\n",
       "    </tr>\n",
       "    <tr>\n",
       "      <th>82</th>\n",
       "      <td>82</td>\n",
       "      <td>578942</td>\n",
       "      <td>309.375000</td>\n",
       "      <td>-22.427273</td>\n",
       "      <td>4.190520</td>\n",
       "      <td>22.561427</td>\n",
       "      <td>-32.767893</td>\n",
       "    </tr>\n",
       "    <tr>\n",
       "      <th>83</th>\n",
       "      <td>83</td>\n",
       "      <td>576894</td>\n",
       "      <td>309.375000</td>\n",
       "      <td>-22.265950</td>\n",
       "      <td>4.664159</td>\n",
       "      <td>22.743021</td>\n",
       "      <td>-32.715979</td>\n",
       "    </tr>\n",
       "    <tr>\n",
       "      <th>84</th>\n",
       "      <td>84</td>\n",
       "      <td>577918</td>\n",
       "      <td>309.462891</td>\n",
       "      <td>-22.346588</td>\n",
       "      <td>4.497585</td>\n",
       "      <td>22.683378</td>\n",
       "      <td>-32.818931</td>\n",
       "    </tr>\n",
       "  </tbody>\n",
       "</table>\n",
       "</div>"
      ],
      "text/plain": [
       "    Unnamed: 0   index          RA        DEC  -log[p-value]          l  \\\n",
       "81          81  577917  309.287109 -22.346588       4.347145  22.621176   \n",
       "82          82  578942  309.375000 -22.427273       4.190520  22.561427   \n",
       "83          83  576894  309.375000 -22.265950       4.664159  22.743021   \n",
       "84          84  577918  309.462891 -22.346588       4.497585  22.683378   \n",
       "\n",
       "            b  \n",
       "81 -32.664999  \n",
       "82 -32.767893  \n",
       "83 -32.715979  \n",
       "84 -32.818931  "
      ]
     },
     "execution_count": 6,
     "metadata": {},
     "output_type": "execute_result"
    }
   ],
   "source": [
    "df_neutrinos = pd.read_csv(\"/mnt/c/Users/joerg/OneDrive/Dokumente/UNI/Bachelor of Science/Bachelorarbeit/Jupyter Notebook/all_neutrinos_L40.csv\")\n",
    "df_neutrinos[81:85]"
   ]
  },
  {
   "cell_type": "markdown",
   "id": "ca4361c7",
   "metadata": {},
   "source": [
    "Applying the same rules in the clustering as Buson did, one finds the exact same 10 matches. </br> </br> **Now the question: Which clustering method is better / more useful in this correlation study?**"
   ]
  },
  {
   "cell_type": "code",
   "execution_count": 7,
   "id": "ae45b5e5",
   "metadata": {},
   "outputs": [
    {
     "name": "stdout",
     "output_type": "stream",
     "text": [
      "\n",
      "10 Matches were found\n"
     ]
    },
    {
     "data": {
      "text/plain": [
       "[array([300.850458, -32.862528]),\n",
       " array([59.430375, -7.854058]),\n",
       " array([ 25.792208, -32.015747]),\n",
       " array([340.7865  ,  -6.150719]),\n",
       " array([ 44.0535  , -21.624747]),\n",
       " array([274.895792, -63.763389]),\n",
       " array([346.222042, -36.416669]),\n",
       " array([ 59.890292, -26.258689]),\n",
       " array([ 97.747958, -24.112828]),\n",
       " array([309.213208, -21.776858])]"
      ]
     },
     "execution_count": 7,
     "metadata": {},
     "output_type": "execute_result"
    }
   ],
   "source": [
    "buson_hotspots = pd.read_csv(\"/mnt/c/Users/joerg/OneDrive/Dokumente/UNI/Bachelor of Science/Bachelorarbeit/Jupyter Notebook/buson_neutrino_hotspots_40.csv\").to_numpy()\n",
    "r = 0.55\n",
    "correlated = []\n",
    "catalog = np.array(df)\n",
    "for i in range(buson_hotspots.shape[0]):\n",
    "    for j in range(catalog.shape[0]):\n",
    "        if haversine([buson_hotspots[i,2], buson_hotspots[i,1]], [catalog[j,4], catalog[j,3]], unit=Unit.DEGREES, normalize=True) < r:\n",
    "            correlated.append(np.array((catalog[j,3],catalog[j,4])))\n",
    "print(f\"\\n{len(correlated)} Matches were found\")\n",
    "correlated"
   ]
  },
  {
   "cell_type": "code",
   "execution_count": null,
   "id": "2e73b287",
   "metadata": {},
   "outputs": [],
   "source": []
  }
 ],
 "metadata": {
  "kernelspec": {
   "display_name": "Python 3 (ipykernel)",
   "language": "python",
   "name": "python3"
  },
  "language_info": {
   "codemirror_mode": {
    "name": "ipython",
    "version": 3
   },
   "file_extension": ".py",
   "mimetype": "text/x-python",
   "name": "python",
   "nbconvert_exporter": "python",
   "pygments_lexer": "ipython3",
   "version": "3.8.10"
  }
 },
 "nbformat": 4,
 "nbformat_minor": 5
}
