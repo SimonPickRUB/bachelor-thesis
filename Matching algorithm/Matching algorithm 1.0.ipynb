{
 "cells": [
  {
   "cell_type": "code",
   "execution_count": 1,
   "id": "84d2c517",
   "metadata": {},
   "outputs": [],
   "source": [
    "import pandas as pd\n",
    "import numpy as np\n",
    "from sklearn.metrics.pairwise import haversine_distances\n",
    "from math import radians, degrees\n",
    "import time"
   ]
  },
  {
   "cell_type": "code",
   "execution_count": 2,
   "id": "1c2a00fa",
   "metadata": {},
   "outputs": [],
   "source": [
    "# df contains the cleaned original catalog (1177 objects)\n",
    "df = pd.read_csv(\"/mnt/c/Users/joerg/OneDrive/Dokumente/UNI/Bachelor of Science/Bachelorarbeit/Jupyter Notebook/blazar_clean.csv\")\n",
    "# df_centers contains the coordinates of the 19 neutrino hotspots obtained for L_min = 4.0\n",
    "df_centers = pd.read_csv(\"/mnt/c/Users/joerg/OneDrive/Dokumente/UNI/Bachelor of Science/Bachelorarbeit/Jupyter Notebook/neutrino_hotspots_40.csv\")"
   ]
  },
  {
   "cell_type": "markdown",
   "id": "78300715",
   "metadata": {},
   "source": [
    "## First version of matching algorithm\n",
    "Loops through all neutrino hotspots and finds blazars closer than r (in degrees) and prints the index of matched hotspots, as well as the coordinates of the corresponding blazars. Does not filter out duplicates yet. "
   ]
  },
  {
   "cell_type": "code",
   "execution_count": 3,
   "id": "47327688",
   "metadata": {},
   "outputs": [
    {
     "name": "stdout",
     "output_type": "stream",
     "text": [
      "1\n",
      "3\n",
      "4\n",
      "5\n",
      "6\n",
      "10\n",
      "11\n",
      "12\n",
      "13\n",
      "\n",
      "9 Matches were found\n",
      "\n",
      "It took 0.266s to run the matching algorithm\n"
     ]
    },
    {
     "data": {
      "text/plain": [
       "[array([300.850458, -32.862528]),\n",
       " array([59.430375, -7.854058]),\n",
       " array([ 59.890292, -26.258689]),\n",
       " array([ 25.792208, -32.015747]),\n",
       " array([340.7865  ,  -6.150719]),\n",
       " array([274.895792, -63.763389]),\n",
       " array([ 44.0535  , -21.624747]),\n",
       " array([346.222042, -36.416669]),\n",
       " array([ 97.747958, -24.112828])]"
      ]
     },
     "execution_count": 3,
     "metadata": {},
     "output_type": "execute_result"
    }
   ],
   "source": [
    "r = 0.55\n",
    "t0 = time.time()\n",
    "correlated = []\n",
    "df_centers = df_centers.to_numpy()\n",
    "catalog = np.array(df)\n",
    "for i in range(df_centers.shape[0]):\n",
    "    for j in range(catalog.shape[0]):\n",
    "        if degrees(haversine_distances([[radians(_) for _ in [df_centers[i,2], df_centers[i,1]]], [radians(_) for _ in [catalog[j,4], catalog[j,3]]]])[0,1]) < r:\n",
    "            correlated.append(np.array((catalog[j,3],catalog[j,4])))\n",
    "            print(i)\n",
    "t1 = time.time()\n",
    "print(f\"\\n{len(correlated)} Matches were found\")\n",
    "print(f\"\\nIt took {t1-t0:.3f}s to run the matching algorithm\")\n",
    "correlated"
   ]
  },
  {
   "cell_type": "markdown",
   "id": "344e331d",
   "metadata": {},
   "source": [
    "The matching algorithm is expected to return 10 matches for r=0.55 and L_min=4.0 (see Buson). 9 out of 10 matches can already be identified. The missing correlation is due to a small deviation in the neutrino hotspot clustering method for certain hotspots. Note the following difference in calculated distances:"
   ]
  },
  {
   "cell_type": "code",
   "execution_count": 4,
   "id": "856beb1c",
   "metadata": {},
   "outputs": [
    {
     "data": {
      "text/plain": [
       "0.5891424639750822"
      ]
     },
     "execution_count": 4,
     "metadata": {},
     "output_type": "execute_result"
    }
   ],
   "source": [
    "# The angular distance between the missing hotspot and blazar pair according to applied clustering method.\n",
    "degrees(haversine_distances([[radians(_) for _ in [df_centers[9,2], df_centers[9,1]]], [radians(_) for _ in [catalog[920,4], catalog[920,3]]]])[0,1])"
   ]
  },
  {
   "cell_type": "code",
   "execution_count": 5,
   "id": "ffa10daa",
   "metadata": {},
   "outputs": [
    {
     "data": {
      "text/plain": [
       "0.5168138467295282"
      ]
     },
     "execution_count": 5,
     "metadata": {},
     "output_type": "execute_result"
    }
   ],
   "source": [
    "# The angular distance between the missing hotspot and blazar pair according to Buson.\n",
    "degrees(haversine_distances([[radians(_) for _ in [-22.27, 309.38]], [radians(_) for _ in [-21.776858, 309.213208]]])[0,1])"
   ]
  },
  {
   "cell_type": "code",
   "execution_count": null,
   "id": "f4f51d45",
   "metadata": {},
   "outputs": [],
   "source": []
  }
 ],
 "metadata": {
  "kernelspec": {
   "display_name": "Python 3 (ipykernel)",
   "language": "python",
   "name": "python3"
  },
  "language_info": {
   "codemirror_mode": {
    "name": "ipython",
    "version": 3
   },
   "file_extension": ".py",
   "mimetype": "text/x-python",
   "name": "python",
   "nbconvert_exporter": "python",
   "pygments_lexer": "ipython3",
   "version": "3.8.10"
  }
 },
 "nbformat": 4,
 "nbformat_minor": 5
}
